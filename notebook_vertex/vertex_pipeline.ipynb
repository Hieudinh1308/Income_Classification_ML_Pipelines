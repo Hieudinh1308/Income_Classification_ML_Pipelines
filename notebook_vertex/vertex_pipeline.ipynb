{
 "cells": [
  {
   "cell_type": "markdown",
   "id": "95e4fcb8-1a50-4ea3-8018-e475f8e41051",
   "metadata": {},
   "source": [
    "# In my project, I am using a Qwiklabs account instead of a Google cloud account to use features on GCP :))"
   ]
  },
  {
   "cell_type": "markdown",
   "id": "4d712beb-4790-4e9f-b8e0-e3103d89a2be",
   "metadata": {},
   "source": [
    "## Setting Path"
   ]
  },
  {
   "cell_type": "code",
   "execution_count": null,
   "id": "272965ba-ef4c-4c8a-9df4-2ca2a7353e8b",
   "metadata": {},
   "outputs": [],
   "source": [
    "# Use the latest version of pip.\n",
    "!pip install --upgrade pip\n",
    "!pip install --upgrade \"tfx[kfp]<2\""
   ]
  },
  {
   "cell_type": "code",
   "execution_count": null,
   "id": "900b35bc-f540-4fa4-97fa-f05381b2621f",
   "metadata": {},
   "outputs": [],
   "source": [
    "import tensorflow as tf\n",
    "print('TensorFlow version: {}'.format(tf.__version__))\n",
    "from tfx import v1 as tfx\n",
    "print('TFX version: {}'.format(tfx.__version__))\n",
    "import kfp\n",
    "print('KFP version: {}'.format(kfp.__version__))"
   ]
  },
  {
   "cell_type": "code",
   "execution_count": null,
   "id": "769be9a7-941c-4b83-83f7-3edb4ca30bc6",
   "metadata": {},
   "outputs": [],
   "source": [
    "GOOGLE_CLOUD_PROJECT = ''      \n",
    "GOOGLE_CLOUD_REGION = 'us-east1'     \n",
    "GCS_BUCKET_NAME = GOOGLE_CLOUD_PROJECT + '-gcs'"
   ]
  },
  {
   "cell_type": "code",
   "execution_count": null,
   "id": "eb506256-f72e-47f5-9d88-6c504e69095a",
   "metadata": {},
   "outputs": [],
   "source": [
    "!gcloud config set project {GOOGLE_CLOUD_PROJECT}"
   ]
  },
  {
   "cell_type": "code",
   "execution_count": null,
   "id": "aefed65a-7ebb-4c46-a476-8fa14d428ec9",
   "metadata": {},
   "outputs": [],
   "source": [
    "PIPELINE_NAME = 'vertex-pipelines'\n",
    "\n",
    "# Path to various pipeline artifact.\n",
    "PIPELINE_ROOT = 'gs://{}/pipeline_root/{}'.format(\n",
    "    GCS_BUCKET_NAME, PIPELINE_NAME)\n",
    "\n",
    "# Paths for users' Python module.\n",
    "MODULE_ROOT = 'gs://{}/pipeline_module/{}'.format(\n",
    "    GCS_BUCKET_NAME, PIPELINE_NAME)\n",
    "\n",
    "# Paths for input data.\n",
    "DATA_ROOT = 'gs://{}/data/{}'.format(GCS_BUCKET_NAME, PIPELINE_NAME)\n",
    "\n",
    "# This is the path where your model will be pushed for serving.\n",
    "SERVING_MODEL_DIR = 'gs://{}/serving_model/{}'.format(\n",
    "    GCS_BUCKET_NAME, PIPELINE_NAME)\n",
    "\n",
    "_METADATA_PATH = 'gs://{}/metadata/{}/{}'.format(\n",
    "    GCS_BUCKET_NAME, PIPELINE_NAME, \"metadata.db\")\n",
    "\n",
    "print('PIPELINE_ROOT: {}'.format(PIPELINE_ROOT))"
   ]
  },
  {
   "cell_type": "code",
   "execution_count": null,
   "id": "83144670-3d02-4336-9f5c-64e82e788c0c",
   "metadata": {},
   "outputs": [],
   "source": [
    "!gsutil cp ../trainer/*.py {MODULE_ROOT}/"
   ]
  },
  {
   "cell_type": "code",
   "execution_count": null,
   "id": "a5443fa0-2b03-42ce-a5ce-896ca6054453",
   "metadata": {},
   "outputs": [],
   "source": [
    "!gsutil cp  ../data/census/data.csv {DATA_ROOT}/"
   ]
  },
  {
   "cell_type": "code",
   "execution_count": null,
   "id": "9cbc38d2-ddbc-4a41-bad9-7f9d891d2be9",
   "metadata": {},
   "outputs": [],
   "source": [
    "!gsutil cat {DATA_ROOT}/data.csv | head"
   ]
  },
  {
   "cell_type": "markdown",
   "id": "d41f625c-2ce1-4a91-8c5e-05ba8f5c57a3",
   "metadata": {},
   "source": [
    "## Pipelines"
   ]
  },
  {
   "cell_type": "code",
   "execution_count": 8,
   "id": "9c9f5a6d-b20a-4bfd-9d4e-6c70386ab472",
   "metadata": {},
   "outputs": [],
   "source": [
    "## modunle file \n",
    "_trainer_module_file = 'trainer_file.py'\n",
    "_transform_module_file = 'transform_file.py'"
   ]
  },
  {
   "cell_type": "code",
   "execution_count": null,
   "id": "b9ba5b20-6482-46de-a3eb-96e58711a928",
   "metadata": {},
   "outputs": [],
   "source": [
    "## module function\n",
    "from trainer.training_pipeline import _create_pipeline"
   ]
  },
  {
   "cell_type": "code",
   "execution_count": null,
   "id": "4d5c73ac-4493-4845-920d-b2c56176d6dd",
   "metadata": {},
   "outputs": [],
   "source": []
  },
  {
   "cell_type": "markdown",
   "id": "184f43ef-a818-4bd6-a896-1d0b01ae9ed5",
   "metadata": {},
   "source": [
    "## Run the pipeline on Vertex Pipelines"
   ]
  },
  {
   "cell_type": "code",
   "execution_count": null,
   "id": "716748a7-20b9-486f-880f-1e4ed7187e5f",
   "metadata": {},
   "outputs": [],
   "source": [
    "import os\n",
    "\n",
    "PIPELINE_DEFINITION_FILE = PIPELINE_NAME + '_pipeline.json'\n",
    "\n",
    "runner = tfx.orchestration.experimental.KubeflowV2DagRunner(\n",
    "    config=tfx.orchestration.experimental.KubeflowV2DagRunnerConfig(),\n",
    "    output_filename=PIPELINE_DEFINITION_FILE)\n",
    "_ = runner.run(\n",
    "    _create_pipeline(\n",
    "        pipeline_name=PIPELINE_NAME,\n",
    "        pipeline_root=PIPELINE_ROOT,\n",
    "        data_root=DATA_ROOT,\n",
    "        transform_module_file=os.path.join(MODULE_ROOT, _transform_module_file),\n",
    "        trainer_module_file=os.path.join(MODULE_ROOT, _trainer_module_file),\n",
    "        serving_model_dir=SERVING_MODEL_DIR,\n",
    "        metadata_path=_METADATA_PATH))"
   ]
  },
  {
   "cell_type": "code",
   "execution_count": null,
   "id": "ce5b9611-0acb-4740-9817-e9e611dc5373",
   "metadata": {},
   "outputs": [],
   "source": [
    "from google.cloud import aiplatform\n",
    "from google.cloud.aiplatform import pipeline_jobs\n",
    "\n",
    "aiplatform.init(project=GOOGLE_CLOUD_PROJECT, location=GOOGLE_CLOUD_REGION)\n",
    "\n",
    "job = pipeline_jobs.PipelineJob(template_path=PIPELINE_DEFINITION_FILE,\n",
    "                                display_name=PIPELINE_NAME)\n",
    "job.run(sync=False)"
   ]
  },
  {
   "cell_type": "code",
   "execution_count": null,
   "id": "43aca16f-b17b-4f89-9b84-5c2b5e04ba94",
   "metadata": {},
   "outputs": [],
   "source": []
  },
  {
   "cell_type": "code",
   "execution_count": null,
   "id": "a96f7295-824d-4d81-9fb2-ea4cf1ae6e3f",
   "metadata": {},
   "outputs": [],
   "source": []
  },
  {
   "cell_type": "code",
   "execution_count": null,
   "id": "1b2b1f92-6d49-45be-8230-2b9f3b4cf68c",
   "metadata": {},
   "outputs": [],
   "source": []
  },
  {
   "cell_type": "code",
   "execution_count": null,
   "id": "1ff5caea-ec93-4451-95dd-a214b6049782",
   "metadata": {},
   "outputs": [],
   "source": []
  },
  {
   "cell_type": "code",
   "execution_count": null,
   "id": "6fb6bb1e-b4d2-4a66-95f3-ed712f12c9e5",
   "metadata": {},
   "outputs": [],
   "source": []
  },
  {
   "cell_type": "code",
   "execution_count": null,
   "id": "10a9b379-003a-4026-8722-0518540a6ba1",
   "metadata": {},
   "outputs": [],
   "source": []
  },
  {
   "cell_type": "code",
   "execution_count": null,
   "id": "aff9f93d-bae5-4985-a76d-383e3752e7d7",
   "metadata": {},
   "outputs": [],
   "source": []
  },
  {
   "cell_type": "code",
   "execution_count": null,
   "id": "afae5e6f-1b0d-4889-9701-1a93a6bdaab6",
   "metadata": {},
   "outputs": [],
   "source": []
  },
  {
   "cell_type": "code",
   "execution_count": null,
   "id": "f68c4a39-3938-4ccd-806b-6dfe0c2f7fcb",
   "metadata": {},
   "outputs": [],
   "source": []
  },
  {
   "cell_type": "code",
   "execution_count": null,
   "id": "db261b85-5501-448c-a038-4b133949e63c",
   "metadata": {},
   "outputs": [],
   "source": []
  },
  {
   "cell_type": "code",
   "execution_count": null,
   "id": "eda8be2f-8fda-4a4e-8c79-b1e5de0efb26",
   "metadata": {},
   "outputs": [],
   "source": []
  },
  {
   "cell_type": "code",
   "execution_count": null,
   "id": "4af1c986-af3f-4e70-b40c-33d0f3f84bd1",
   "metadata": {},
   "outputs": [],
   "source": []
  }
 ],
 "metadata": {
  "kernelspec": {
   "display_name": "Python 3 (ipykernel)",
   "language": "python",
   "name": "python3"
  },
  "language_info": {
   "codemirror_mode": {
    "name": "ipython",
    "version": 3
   },
   "file_extension": ".py",
   "mimetype": "text/x-python",
   "name": "python",
   "nbconvert_exporter": "python",
   "pygments_lexer": "ipython3",
   "version": "3.10.9"
  },
  "widgets": {
   "application/vnd.jupyter.widget-state+json": {
    "state": {},
    "version_major": 2,
    "version_minor": 0
   }
  }
 },
 "nbformat": 4,
 "nbformat_minor": 5
}
